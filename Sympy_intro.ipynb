{
 "cells": [
  {
   "cell_type": "markdown",
   "metadata": {},
   "source": [
    "# DEFINE VARIABLES IN SYMPY"
   ]
  },
  {
   "cell_type": "code",
   "execution_count": 1,
   "metadata": {},
   "outputs": [],
   "source": [
    "from sympy import *"
   ]
  },
  {
   "cell_type": "code",
   "execution_count": 2,
   "metadata": {},
   "outputs": [
    {
     "name": "stdout",
     "output_type": "stream",
     "text": [
      "Help on package sympy:\n",
      "\n",
      "NAME\n",
      "    sympy\n",
      "\n",
      "DESCRIPTION\n",
      "    SymPy is a Python library for symbolic mathematics. It aims to become a\n",
      "    full-featured computer algebra system (CAS) while keeping the code as simple\n",
      "    as possible in order to be comprehensible and easily extensible.  SymPy is\n",
      "    written entirely in Python. It depends on mpmath, and other external libraries\n",
      "    may be optionally for things like plotting support.\n",
      "    \n",
      "    See the webpage for more information and documentation:\n",
      "    \n",
      "        https://sympy.org\n",
      "\n",
      "PACKAGE CONTENTS\n",
      "    abc\n",
      "    algebras (package)\n",
      "    assumptions (package)\n",
      "    benchmarks (package)\n",
      "    calculus (package)\n",
      "    categories (package)\n",
      "    codegen (package)\n",
      "    combinatorics (package)\n",
      "    concrete (package)\n",
      "    conftest\n",
      "    core (package)\n",
      "    crypto (package)\n",
      "    deprecated (package)\n",
      "    diffgeom (package)\n",
      "    discrete (package)\n",
      "    external (package)\n",
      "    functions (package)\n",
      "    galgebra\n",
      "    geometry (package)\n",
      "    holonomic (package)\n",
      "    integrals (package)\n",
      "    interactive (package)\n",
      "    liealgebras (package)\n",
      "    logic (package)\n",
      "    matrices (package)\n",
      "    multipledispatch (package)\n",
      "    ntheory (package)\n",
      "    parsing (package)\n",
      "    physics (package)\n",
      "    plotting (package)\n",
      "    polys (package)\n",
      "    printing (package)\n",
      "    release\n",
      "    sandbox (package)\n",
      "    series (package)\n",
      "    sets (package)\n",
      "    simplify (package)\n",
      "    solvers (package)\n",
      "    stats (package)\n",
      "    strategies (package)\n",
      "    tensor (package)\n",
      "    this\n",
      "    unify (package)\n",
      "    utilities (package)\n",
      "    vector (package)\n",
      "\n",
      "SUBMODULES\n",
      "    add\n",
      "    array\n",
      "    basic\n",
      "    bivariate\n",
      "    boolalg\n",
      "    cache\n",
      "    class_registry\n",
      "    common\n",
      "    compatibility\n",
      "    conditionset\n",
      "    containers\n",
      "    contains\n",
      "    convolutions\n",
      "    coreerrors\n",
      "    cse_main\n",
      "    cse_opts\n",
      "    curve\n",
      "    decorators\n",
      "    dense\n",
      "    deutils\n",
      "    ellipse\n",
      "    entity\n",
      "    epathtools\n",
      "    evalf\n",
      "    exceptions\n",
      "    expr\n",
      "    expr_with_intlimits\n",
      "    expr_with_limits\n",
      "    expressions\n",
      "    exprtools\n",
      "    factor_\n",
      "    facts\n",
      "    fancysets\n",
      "    function\n",
      "    generate\n",
      "    gosper\n",
      "    immutable\n",
      "    index_methods\n",
      "    indexed\n",
      "    inequalities\n",
      "    inference\n",
      "    line\n",
      "    manualintegrate\n",
      "    meijerint\n",
      "    mod\n",
      "    mul\n",
      "    multidimensional\n",
      "    multinomial\n",
      "    numbers\n",
      "    ode\n",
      "    operations\n",
      "    ordinals\n",
      "    parabola\n",
      "    partitions_\n",
      "    pde\n",
      "    plane\n",
      "    point\n",
      "    polygon\n",
      "    polysys\n",
      "    power\n",
      "    powerset\n",
      "    primetest\n",
      "    products\n",
      "    recurr\n",
      "    relational\n",
      "    residue_ntheory\n",
      "    rules\n",
      "    singleton\n",
      "    singularityfunctions\n",
      "    sparse\n",
      "    sparsetools\n",
      "    summations\n",
      "    symbol\n",
      "    transforms\n",
      "    traversaltools\n",
      "    trigonometry\n",
      "    util\n",
      "\n",
      "DATA\n",
      "    C = <sympy.deprecated.class_registry.ClassRegistry object>\n",
      "    CC = CC\n",
      "    Catalan = Catalan\n",
      "    Complexes = S.Complexes\n",
      "    E = E\n",
      "    EX = EX\n",
      "    EmptySequence = EmptySequence\n",
      "    EmptySet = EmptySet\n",
      "    EulerGamma = EulerGamma\n",
      "    FU = {'L': <function L>, 'TR0': <function TR0>, 'TR1': <function TR1>,...\n",
      "    GoldenRatio = GoldenRatio\n",
      "    I = I\n",
      "    Id = Lambda(_x, _x)\n",
      "    Integers = Integers\n",
      "    Naturals = Naturals\n",
      "    Naturals0 = Naturals0\n",
      "    Q = <sympy.assumptions.ask.AssumptionKeys object>\n",
      "    QQ = QQ\n",
      "    RR = RR\n",
      "    Rationals = Rationals\n",
      "    Reals = Reals\n",
      "    S = S\n",
      "    SYMPY_DEBUG = False\n",
      "    TribonacciConstant = TribonacciConstant\n",
      "    UniversalSet = UniversalSet\n",
      "    ZZ = ZZ\n",
      "    false = False\n",
      "    grevlex = ReversedGradedLexOrder()\n",
      "    grlex = GradedLexOrder()\n",
      "    igrevlex = InverseOrder()\n",
      "    igrlex = InverseOrder()\n",
      "    ilex = InverseOrder()\n",
      "    lex = LexOrder()\n",
      "    nan = nan\n",
      "    oo = oo\n",
      "    ord0 = ord0\n",
      "    pi = pi\n",
      "    plot_backends = {'default': <class 'sympy.plotting.plot.DefaultBackend...\n",
      "    sieve = <prime sieve (6): 2, 3, 5, ... 11, 13\n",
      "    totient si..., ... 2, 4\n",
      "    ...\n",
      "    true = True\n",
      "    zoo = zoo\n",
      "\n",
      "VERSION\n",
      "    1.5.1\n",
      "\n",
      "FILE\n",
      "    /home/user/anaconda3/lib/python3.7/site-packages/sympy/__init__.py\n",
      "\n",
      "\n"
     ]
    }
   ],
   "source": [
    "help(\"sympy\")"
   ]
  },
  {
   "cell_type": "code",
   "execution_count": 3,
   "metadata": {},
   "outputs": [],
   "source": [
    "x,y,z = symbols(\"x y z\")"
   ]
  },
  {
   "cell_type": "code",
   "execution_count": 6,
   "metadata": {},
   "outputs": [],
   "source": [
    "# defining expression"
   ]
  },
  {
   "cell_type": "code",
   "execution_count": 7,
   "metadata": {},
   "outputs": [],
   "source": [
    "expr = x+y-z"
   ]
  },
  {
   "cell_type": "code",
   "execution_count": 8,
   "metadata": {},
   "outputs": [],
   "source": [
    "# substituting values in expression"
   ]
  },
  {
   "cell_type": "code",
   "execution_count": 9,
   "metadata": {},
   "outputs": [
    {
     "data": {
      "text/latex": [
       "$\\displaystyle y - z + 10$"
      ],
      "text/plain": [
       "y - z + 10"
      ]
     },
     "execution_count": 9,
     "metadata": {},
     "output_type": "execute_result"
    }
   ],
   "source": [
    "expr.subs(x,10)"
   ]
  },
  {
   "cell_type": "code",
   "execution_count": 10,
   "metadata": {},
   "outputs": [
    {
     "data": {
      "text/latex": [
       "$\\displaystyle x + y - z$"
      ],
      "text/plain": [
       "x + y - z"
      ]
     },
     "execution_count": 10,
     "metadata": {},
     "output_type": "execute_result"
    }
   ],
   "source": [
    "expr"
   ]
  },
  {
   "cell_type": "code",
   "execution_count": 11,
   "metadata": {},
   "outputs": [],
   "source": [
    "# Note that substituting values in an expression does not change the initial expression"
   ]
  },
  {
   "cell_type": "code",
   "execution_count": 12,
   "metadata": {},
   "outputs": [],
   "source": [
    "Ans = expr.subs(x,10).subs(y,1).subs(z,1)"
   ]
  },
  {
   "cell_type": "code",
   "execution_count": 13,
   "metadata": {},
   "outputs": [
    {
     "data": {
      "text/latex": [
       "$\\displaystyle 10$"
      ],
      "text/plain": [
       "10"
      ]
     },
     "execution_count": 13,
     "metadata": {},
     "output_type": "execute_result"
    }
   ],
   "source": [
    "Ans"
   ]
  },
  {
   "cell_type": "code",
   "execution_count": 14,
   "metadata": {},
   "outputs": [],
   "source": [
    "a,b,c,d = symbols(\"a b c d\")"
   ]
  },
  {
   "cell_type": "code",
   "execution_count": 15,
   "metadata": {},
   "outputs": [
    {
     "data": {
      "text/latex": [
       "$\\displaystyle a^{2} + b^{2}$"
      ],
      "text/plain": [
       "a**2 + b**2"
      ]
     },
     "execution_count": 15,
     "metadata": {},
     "output_type": "execute_result"
    }
   ],
   "source": [
    "expr1 = a**2 + b**2 \n",
    "expr1"
   ]
  },
  {
   "cell_type": "code",
   "execution_count": 16,
   "metadata": {},
   "outputs": [
    {
     "data": {
      "text/latex": [
       "$\\displaystyle \\sqrt{a^{3} + \\frac{1}{d^{2}}}$"
      ],
      "text/plain": [
       "sqrt(a**3 + d**(-2))"
      ]
     },
     "execution_count": 16,
     "metadata": {},
     "output_type": "execute_result"
    }
   ],
   "source": [
    "c = sqrt(a**3+1/d**2)\n",
    "c"
   ]
  },
  {
   "cell_type": "code",
   "execution_count": 18,
   "metadata": {},
   "outputs": [
    {
     "data": {
      "text/latex": [
       "$\\displaystyle a^{3} + a^{2} + \\frac{1}{d^{2}}$"
      ],
      "text/plain": [
       "a**3 + a**2 + d**(-2)"
      ]
     },
     "execution_count": 18,
     "metadata": {},
     "output_type": "execute_result"
    }
   ],
   "source": [
    "expr1.subs(b,c)            # Giving 'b' the value of 'c'"
   ]
  },
  {
   "cell_type": "code",
   "execution_count": 19,
   "metadata": {},
   "outputs": [
    {
     "data": {
      "text/latex": [
       "$\\displaystyle a^{2} + b^{3}$"
      ],
      "text/plain": [
       "a**2 + b**3"
      ]
     },
     "execution_count": 19,
     "metadata": {},
     "output_type": "execute_result"
    }
   ],
   "source": [
    "expr1 = a**2 + b**3\n",
    "expr1"
   ]
  },
  {
   "cell_type": "code",
   "execution_count": 20,
   "metadata": {},
   "outputs": [
    {
     "data": {
      "text/latex": [
       "$\\displaystyle a^{2} + \\left(a^{3} + \\frac{1}{d^{2}}\\right)^{\\frac{3}{2}}$"
      ],
      "text/plain": [
       "a**2 + (a**3 + d**(-2))**(3/2)"
      ]
     },
     "execution_count": 20,
     "metadata": {},
     "output_type": "execute_result"
    }
   ],
   "source": [
    "expr1.subs(b,c)       # Getting fractional power"
   ]
  },
  {
   "cell_type": "markdown",
   "metadata": {},
   "source": [
    "# DEFINING EQUATIONS USING SYMPY"
   ]
  },
  {
   "cell_type": "code",
   "execution_count": 22,
   "metadata": {},
   "outputs": [
    {
     "name": "stdout",
     "output_type": "stream",
     "text": [
      "2x+y=5 \n",
      "x-y=3\n"
     ]
    }
   ],
   "source": [
    "print(\"2x+y=5\", \"\\nx-y=3\")"
   ]
  },
  {
   "cell_type": "code",
   "execution_count": 26,
   "metadata": {},
   "outputs": [],
   "source": [
    "eq1 = Eq(2*x+y-5, 0)                   # equation1\n",
    "eq2 = Eq(x-y-3, 0)                    # equation2"
   ]
  },
  {
   "cell_type": "code",
   "execution_count": 27,
   "metadata": {},
   "outputs": [],
   "source": [
    "solution = solve((eq1,eq2),(x,y))"
   ]
  },
  {
   "cell_type": "code",
   "execution_count": 28,
   "metadata": {},
   "outputs": [
    {
     "data": {
      "text/plain": [
       "{x: 8/3, y: -1/3}"
      ]
     },
     "execution_count": 28,
     "metadata": {},
     "output_type": "execute_result"
    }
   ],
   "source": [
    "solution"
   ]
  },
  {
   "cell_type": "code",
   "execution_count": 29,
   "metadata": {},
   "outputs": [
    {
     "name": "stdout",
     "output_type": "stream",
     "text": [
      "The solutions are x=8/3 and y=-1/3.\n"
     ]
    }
   ],
   "source": [
    "print(\"The solutions are x={} and y={}.\".format(solution[x], solution[y]))"
   ]
  },
  {
   "cell_type": "markdown",
   "metadata": {},
   "source": [
    "# ELECTROSTATICS"
   ]
  },
  {
   "cell_type": "code",
   "execution_count": 31,
   "metadata": {},
   "outputs": [],
   "source": [
    "# Coulomb's law"
   ]
  },
  {
   "cell_type": "code",
   "execution_count": 32,
   "metadata": {},
   "outputs": [],
   "source": [
    "q1, q2, r, k = symbols(\"q1 q2 r k\")"
   ]
  },
  {
   "cell_type": "code",
   "execution_count": 33,
   "metadata": {},
   "outputs": [
    {
     "data": {
      "text/latex": [
       "$\\displaystyle \\frac{k q_{1} q_{2}}{r^{2}}$"
      ],
      "text/plain": [
       "k*q1*q2/r**2"
      ]
     },
     "execution_count": 33,
     "metadata": {},
     "output_type": "execute_result"
    }
   ],
   "source": [
    "Force = k*q1*q2/r**2\n",
    "Force"
   ]
  },
  {
   "cell_type": "code",
   "execution_count": 34,
   "metadata": {},
   "outputs": [
    {
     "data": {
      "text/latex": [
       "$\\displaystyle 0.2136$"
      ],
      "text/plain": [
       "0.213600000000000"
      ]
     },
     "execution_count": 34,
     "metadata": {},
     "output_type": "execute_result"
    }
   ],
   "source": [
    "Force.subs(k,8.9*1e9).subs(q1,2*1e-6).subs(q2,3*1e-6).subs(r,0.5)\n",
    "# Calculating force for q1 = 2 microC, q2 = 3 microC, r = 50 cm. "
   ]
  },
  {
   "cell_type": "markdown",
   "metadata": {},
   "source": [
    "# SIMPLIFYING EXPRESSIONS"
   ]
  },
  {
   "cell_type": "code",
   "execution_count": 37,
   "metadata": {},
   "outputs": [],
   "source": [
    "x = Symbol(\"x\")"
   ]
  },
  {
   "cell_type": "code",
   "execution_count": 38,
   "metadata": {},
   "outputs": [
    {
     "data": {
      "text/latex": [
       "$\\displaystyle \\frac{\\left(x^{2} + 4 x + 4\\right) \\left(x^{2} + 5 x - 24\\right)}{\\left(x^{2} - 3 x\\right) \\left(x^{2} + 6 x + 8\\right)}$"
      ],
      "text/plain": [
       "(x**2 + 4*x + 4)*(x**2 + 5*x - 24)/((x**2 - 3*x)*(x**2 + 6*x + 8))"
      ]
     },
     "execution_count": 38,
     "metadata": {},
     "output_type": "execute_result"
    }
   ],
   "source": [
    "expr = ((x**2 + 5*x -24)/(x**2 + 6*x + 8))*((x**2 + 4*x +4)/(x**2 - 3*x))\n",
    "expr"
   ]
  },
  {
   "cell_type": "code",
   "execution_count": 39,
   "metadata": {},
   "outputs": [
    {
     "data": {
      "text/latex": [
       "$\\displaystyle \\frac{x^{2} + 10 x + 16}{x \\left(x + 4\\right)}$"
      ],
      "text/plain": [
       "(x**2 + 10*x + 16)/(x*(x + 4))"
      ]
     },
     "execution_count": 39,
     "metadata": {},
     "output_type": "execute_result"
    }
   ],
   "source": [
    "expr.simplify()"
   ]
  },
  {
   "cell_type": "code",
   "execution_count": 40,
   "metadata": {},
   "outputs": [
    {
     "data": {
      "text/latex": [
       "$\\displaystyle \\frac{x^{4}}{x^{4} + 3 x^{3} - 10 x^{2} - 24 x} + \\frac{9 x^{3}}{x^{4} + 3 x^{3} - 10 x^{2} - 24 x} - \\frac{76 x}{x^{4} + 3 x^{3} - 10 x^{2} - 24 x} - \\frac{96}{x^{4} + 3 x^{3} - 10 x^{2} - 24 x}$"
      ],
      "text/plain": [
       "x**4/(x**4 + 3*x**3 - 10*x**2 - 24*x) + 9*x**3/(x**4 + 3*x**3 - 10*x**2 - 24*x) - 76*x/(x**4 + 3*x**3 - 10*x**2 - 24*x) - 96/(x**4 + 3*x**3 - 10*x**2 - 24*x)"
      ]
     },
     "execution_count": 40,
     "metadata": {},
     "output_type": "execute_result"
    }
   ],
   "source": [
    "expr.expand()"
   ]
  },
  {
   "cell_type": "code",
   "execution_count": 41,
   "metadata": {},
   "outputs": [
    {
     "data": {
      "text/latex": [
       "$\\displaystyle \\frac{\\left(x^{2} + 4 x + 4\\right) \\left(x^{2} + 5 x - 24\\right)}{\\left(x^{2} - 3 x\\right) \\left(x^{2} + 6 x + 8\\right)}$"
      ],
      "text/plain": [
       "(x**2 + 4*x + 4)*(x**2 + 5*x - 24)/((x**2 - 3*x)*(x**2 + 6*x + 8))"
      ]
     },
     "execution_count": 41,
     "metadata": {},
     "output_type": "execute_result"
    }
   ],
   "source": [
    "expr"
   ]
  },
  {
   "cell_type": "code",
   "execution_count": 42,
   "metadata": {},
   "outputs": [
    {
     "data": {
      "text/latex": [
       "$\\displaystyle \\frac{\\left(x + 2\\right) \\left(x + 8\\right)}{x \\left(x + 4\\right)}$"
      ],
      "text/plain": [
       "(x + 2)*(x + 8)/(x*(x + 4))"
      ]
     },
     "execution_count": 42,
     "metadata": {},
     "output_type": "execute_result"
    }
   ],
   "source": [
    "expr.factor()"
   ]
  },
  {
   "cell_type": "code",
   "execution_count": 43,
   "metadata": {},
   "outputs": [
    {
     "data": {
      "text/latex": [
       "$\\displaystyle \\frac{10}{3}$"
      ],
      "text/plain": [
       "10/3"
      ]
     },
     "execution_count": 43,
     "metadata": {},
     "output_type": "execute_result"
    }
   ],
   "source": [
    "expr.subs(x,2)"
   ]
  },
  {
   "cell_type": "code",
   "execution_count": 45,
   "metadata": {},
   "outputs": [
    {
     "data": {
      "text/latex": [
       "$\\displaystyle 6 x^{7} + 3 x^{4} - 9 x^{3}$"
      ],
      "text/plain": [
       "6*x**7 + 3*x**4 - 9*x**3"
      ]
     },
     "execution_count": 45,
     "metadata": {},
     "output_type": "execute_result"
    }
   ],
   "source": [
    "expr1 = 6*x**7 + 3*x**4 - 9*x**3\n",
    "expr1"
   ]
  },
  {
   "cell_type": "code",
   "execution_count": 46,
   "metadata": {},
   "outputs": [
    {
     "data": {
      "text/latex": [
       "$\\displaystyle - 7 a^{10} b^{4} + 2 a^{5} b^{2} + a^{3} b^{8}$"
      ],
      "text/plain": [
       "-7*a**10*b**4 + 2*a**5*b**2 + a**3*b**8"
      ]
     },
     "execution_count": 46,
     "metadata": {},
     "output_type": "execute_result"
    }
   ],
   "source": [
    "expr2 = a**3*b**8 - 7*a**10*b**4 + 2*a**5*b**2\n",
    "expr2"
   ]
  },
  {
   "cell_type": "code",
   "execution_count": 50,
   "metadata": {},
   "outputs": [
    {
     "data": {
      "text/latex": [
       "$\\displaystyle 2 x \\left(x^{2} + 1\\right)^{3} - 16 \\left(x^{2} + 1\\right)^{5}$"
      ],
      "text/plain": [
       "2*x*(x**2 + 1)**3 - 16*(x**2 + 1)**5"
      ]
     },
     "execution_count": 50,
     "metadata": {},
     "output_type": "execute_result"
    }
   ],
   "source": [
    "expr3 = 2*x*(x**2+1)**3 - 16*(x**2+1)**5\n",
    "expr3"
   ]
  },
  {
   "cell_type": "code",
   "execution_count": 52,
   "metadata": {},
   "outputs": [
    {
     "data": {
      "text/latex": [
       "$\\displaystyle x^{2} \\left(2 - 6 x\\right) + 4 x \\left(4 - 12 x\\right)$"
      ],
      "text/plain": [
       "x**2*(2 - 6*x) + 4*x*(4 - 12*x)"
      ]
     },
     "execution_count": 52,
     "metadata": {},
     "output_type": "execute_result"
    }
   ],
   "source": [
    "expr4 = (x**2)*(2-6*x) + 4*x*(4-12*x)\n",
    "expr4"
   ]
  },
  {
   "cell_type": "code",
   "execution_count": 56,
   "metadata": {},
   "outputs": [],
   "source": [
    "no = Symbol(\"no\")"
   ]
  },
  {
   "cell_type": "code",
   "execution_count": 57,
   "metadata": {},
   "outputs": [
    {
     "data": {
      "text/latex": [
       "$\\displaystyle \\sqrt[5]{no}$"
      ],
      "text/plain": [
       "no**(1/5)"
      ]
     },
     "execution_count": 57,
     "metadata": {},
     "output_type": "execute_result"
    }
   ],
   "source": [
    "no**Rational(1,5)"
   ]
  },
  {
   "cell_type": "code",
   "execution_count": 58,
   "metadata": {},
   "outputs": [
    {
     "data": {
      "text/latex": [
       "$\\displaystyle no^{\\frac{4}{7}}$"
      ],
      "text/plain": [
       "no**(4/7)"
      ]
     },
     "execution_count": 58,
     "metadata": {},
     "output_type": "execute_result"
    }
   ],
   "source": [
    "no**Rational(4,7)"
   ]
  },
  {
   "cell_type": "markdown",
   "metadata": {},
   "source": [
    "# TRIGONOMETRY"
   ]
  },
  {
   "cell_type": "code",
   "execution_count": 59,
   "metadata": {},
   "outputs": [],
   "source": [
    "# Simpy names trigono the same way Python does"
   ]
  },
  {
   "cell_type": "code",
   "execution_count": 60,
   "metadata": {},
   "outputs": [
    {
     "data": {
      "text/latex": [
       "$\\displaystyle 0$"
      ],
      "text/plain": [
       "0"
      ]
     },
     "execution_count": 60,
     "metadata": {},
     "output_type": "execute_result"
    }
   ],
   "source": [
    "acos(1)"
   ]
  },
  {
   "cell_type": "code",
   "execution_count": 61,
   "metadata": {},
   "outputs": [
    {
     "data": {
      "text/latex": [
       "$\\displaystyle \\frac{\\pi}{2}$"
      ],
      "text/plain": [
       "pi/2"
      ]
     },
     "execution_count": 61,
     "metadata": {},
     "output_type": "execute_result"
    }
   ],
   "source": [
    "acos(0)"
   ]
  },
  {
   "cell_type": "code",
   "execution_count": 63,
   "metadata": {},
   "outputs": [
    {
     "data": {
      "text/latex": [
       "$\\displaystyle \\frac{\\pi}{2}$"
      ],
      "text/plain": [
       "pi/2"
      ]
     },
     "execution_count": 63,
     "metadata": {},
     "output_type": "execute_result"
    }
   ],
   "source": [
    "asin(1)"
   ]
  },
  {
   "cell_type": "code",
   "execution_count": 64,
   "metadata": {},
   "outputs": [
    {
     "data": {
      "text/latex": [
       "$\\displaystyle 0$"
      ],
      "text/plain": [
       "0"
      ]
     },
     "execution_count": 64,
     "metadata": {},
     "output_type": "execute_result"
    }
   ],
   "source": [
    "asin(0)"
   ]
  },
  {
   "cell_type": "code",
   "execution_count": 65,
   "metadata": {},
   "outputs": [
    {
     "data": {
      "text/latex": [
       "$\\displaystyle 1$"
      ],
      "text/plain": [
       "1"
      ]
     },
     "execution_count": 65,
     "metadata": {},
     "output_type": "execute_result"
    }
   ],
   "source": [
    "sin(pi/2)"
   ]
  },
  {
   "cell_type": "code",
   "execution_count": 66,
   "metadata": {},
   "outputs": [
    {
     "data": {
      "text/latex": [
       "$\\displaystyle 1$"
      ],
      "text/plain": [
       "1"
      ]
     },
     "execution_count": 66,
     "metadata": {},
     "output_type": "execute_result"
    }
   ],
   "source": [
    "tan(pi/4)"
   ]
  },
  {
   "cell_type": "code",
   "execution_count": 67,
   "metadata": {},
   "outputs": [],
   "source": [
    "expr = sin(x)**2 + cos(x)**2"
   ]
  },
  {
   "cell_type": "code",
   "execution_count": 68,
   "metadata": {},
   "outputs": [
    {
     "data": {
      "text/latex": [
       "$\\displaystyle \\sin^{2}{\\left(x \\right)} + \\cos^{2}{\\left(x \\right)}$"
      ],
      "text/plain": [
       "sin(x)**2 + cos(x)**2"
      ]
     },
     "execution_count": 68,
     "metadata": {},
     "output_type": "execute_result"
    }
   ],
   "source": [
    "expr"
   ]
  },
  {
   "cell_type": "markdown",
   "metadata": {},
   "source": [
    "## Simplify: Trigsimp"
   ]
  },
  {
   "cell_type": "code",
   "execution_count": 69,
   "metadata": {},
   "outputs": [
    {
     "data": {
      "text/latex": [
       "$\\displaystyle 1$"
      ],
      "text/plain": [
       "1"
      ]
     },
     "execution_count": 69,
     "metadata": {},
     "output_type": "execute_result"
    }
   ],
   "source": [
    "trigsimp(expr)"
   ]
  },
  {
   "cell_type": "code",
   "execution_count": 73,
   "metadata": {},
   "outputs": [
    {
     "name": "stdout",
     "output_type": "stream",
     "text": [
      "-tan(x)**2 + sec(x)**2 = 1\n"
     ]
    }
   ],
   "source": [
    "expr1 = sec(x)**2 - tan(x)**2\n",
    "print(expr1, \"=\", trigsimp(expr1))"
   ]
  },
  {
   "cell_type": "code",
   "execution_count": 75,
   "metadata": {},
   "outputs": [
    {
     "name": "stdout",
     "output_type": "stream",
     "text": [
      "-cot(x)**2 + csc(x)**2 = 1\n"
     ]
    }
   ],
   "source": [
    "expr2 = csc(x)**2 - cot(x)**2\n",
    "print(expr2, \"=\", trigsimp(expr2))"
   ]
  },
  {
   "cell_type": "markdown",
   "metadata": {},
   "source": [
    "## Expand: expand_trig"
   ]
  },
  {
   "cell_type": "code",
   "execution_count": 129,
   "metadata": {},
   "outputs": [
    {
     "data": {
      "image/png": "[encoded data removed]",
      "text/latex": [
       "$\\displaystyle \\sin{\\left(q_{1} \\right)} \\cos{\\left(q_{2} \\right)} + \\sin{\\left(q_{2} \\right)} \\cos{\\left(q_{1} \\right)}$"
      ],
      "text/plain": [
       "sin(q₁)⋅cos(q₂) + sin(q₂)⋅cos(q₁)"
      ]
     },
     "execution_count": 129,
     "metadata": {},
     "output_type": "execute_result"
    }
   ],
   "source": [
    "expr = sin(q1 + q2)\n",
    "expand_trig(expr)"
   ]
  },
  {
   "cell_type": "code",
   "execution_count": 104,
   "metadata": {},
   "outputs": [
    {
     "data": {
      "image/png": "[encoded data removed]",
      "text/latex": [
       "$\\displaystyle \\frac{2 \\tan{\\left(x \\right)}}{1 - \\tan^{2}{\\left(x \\right)}}$"
      ],
      "text/plain": [
       "  2⋅tan(x) \n",
       "───────────\n",
       "       2   \n",
       "1 - tan (x)"
      ]
     },
     "execution_count": 104,
     "metadata": {},
     "output_type": "execute_result"
    }
   ],
   "source": [
    "expand_trig(tan(2*x))"
   ]
  },
  {
   "cell_type": "markdown",
   "metadata": {},
   "source": [
    "# EXPONENTIALS AND LOGARITHMS"
   ]
  },
  {
   "cell_type": "code",
   "execution_count": 105,
   "metadata": {},
   "outputs": [
    {
     "data": {
      "image/png": "[encoded data removed]",
      "text/latex": [
       "$\\displaystyle \\log{\\left(z \\right)}$"
      ],
      "text/plain": [
       "log(z)"
      ]
     },
     "execution_count": 105,
     "metadata": {},
     "output_type": "execute_result"
    }
   ],
   "source": [
    "log(z)"
   ]
  },
  {
   "cell_type": "code",
   "execution_count": 106,
   "metadata": {},
   "outputs": [],
   "source": [
    "a,b = symbols(\"a, b\", positive = True)\n",
    "n = symbols(\"n\", real = True)"
   ]
  },
  {
   "cell_type": "code",
   "execution_count": 107,
   "metadata": {},
   "outputs": [
    {
     "data": {
      "image/png": "[encoded data removed]",
      "text/latex": [
       "$\\displaystyle \\log{\\left(a \\right)} + \\log{\\left(b \\right)}$"
      ],
      "text/plain": [
       "log(a) + log(b)"
      ]
     },
     "execution_count": 107,
     "metadata": {},
     "output_type": "execute_result"
    }
   ],
   "source": [
    "expand_log(log(a*b))"
   ]
  },
  {
   "cell_type": "code",
   "execution_count": 108,
   "metadata": {},
   "outputs": [
    {
     "data": {
      "image/png": "[encoded data removed]",
      "text/latex": [
       "$\\displaystyle \\log{\\left(a \\right)} - \\log{\\left(b \\right)}$"
      ],
      "text/plain": [
       "log(a) - log(b)"
      ]
     },
     "execution_count": 108,
     "metadata": {},
     "output_type": "execute_result"
    }
   ],
   "source": [
    "expand_log(log(a/b))"
   ]
  },
  {
   "cell_type": "code",
   "execution_count": 109,
   "metadata": {},
   "outputs": [
    {
     "data": {
      "image/png": "[encoded data removed]",
      "text/latex": [
       "$\\displaystyle 5 \\log{\\left(a \\right)}$"
      ],
      "text/plain": [
       "5⋅log(a)"
      ]
     },
     "execution_count": 109,
     "metadata": {},
     "output_type": "execute_result"
    }
   ],
   "source": [
    "expand(log(a**5))"
   ]
  },
  {
   "cell_type": "code",
   "execution_count": 110,
   "metadata": {},
   "outputs": [
    {
     "data": {
      "image/png": "[encoded data removed]",
      "text/latex": [
       "$\\displaystyle \\log{\\left(a b \\right)}$"
      ],
      "text/plain": [
       "log(a⋅b)"
      ]
     },
     "execution_count": 110,
     "metadata": {},
     "output_type": "execute_result"
    }
   ],
   "source": [
    "z = log(a) + log(b)\n",
    "logcombine(z)"
   ]
  },
  {
   "cell_type": "markdown",
   "metadata": {},
   "source": [
    "# CALCULUS"
   ]
  },
  {
   "cell_type": "code",
   "execution_count": 111,
   "metadata": {},
   "outputs": [],
   "source": [
    "init_printing(use_unicode = True)"
   ]
  },
  {
   "cell_type": "markdown",
   "metadata": {},
   "source": [
    "## DERIVATIVES"
   ]
  },
  {
   "cell_type": "code",
   "execution_count": 112,
   "metadata": {},
   "outputs": [
    {
     "data": {
      "image/png": "[encoded data removed]",
      "text/latex": [
       "$\\displaystyle 3 x^{2}$"
      ],
      "text/plain": [
       "   2\n",
       "3⋅x "
      ]
     },
     "execution_count": 112,
     "metadata": {},
     "output_type": "execute_result"
    }
   ],
   "source": [
    "expr = x**3\n",
    "diff(expr,x)"
   ]
  },
  {
   "cell_type": "code",
   "execution_count": 113,
   "metadata": {},
   "outputs": [
    {
     "data": {
      "image/png": "[encoded data removed]",
      "text/latex": [
       "$\\displaystyle \\cos{\\left(x \\right)}$"
      ],
      "text/plain": [
       "cos(x)"
      ]
     },
     "execution_count": 113,
     "metadata": {},
     "output_type": "execute_result"
    }
   ],
   "source": [
    "diff(sin(x),x)"
   ]
  },
  {
   "cell_type": "code",
   "execution_count": 114,
   "metadata": {},
   "outputs": [
    {
     "data": {
      "image/png": "[encoded data removed]",
      "text/latex": [
       "$\\displaystyle - \\sin{\\left(x \\right)}$"
      ],
      "text/plain": [
       "-sin(x)"
      ]
     },
     "execution_count": 114,
     "metadata": {},
     "output_type": "execute_result"
    }
   ],
   "source": [
    "diff(cos(x),x)"
   ]
  },
  {
   "cell_type": "code",
   "execution_count": 115,
   "metadata": {},
   "outputs": [
    {
     "data": {
      "image/png": "[encoded data removed]",
      "text/latex": [
       "$\\displaystyle - \\cot{\\left(x \\right)} \\csc{\\left(x \\right)}$"
      ],
      "text/plain": [
       "-cot(x)⋅csc(x)"
      ]
     },
     "execution_count": 115,
     "metadata": {},
     "output_type": "execute_result"
    }
   ],
   "source": [
    "diff(csc(x),x)"
   ]
  },
  {
   "cell_type": "code",
   "execution_count": 116,
   "metadata": {},
   "outputs": [
    {
     "data": {
      "image/png": "[encoded data removed]",
      "text/latex": [
       "$\\displaystyle 2 \\tan^{2}{\\left(2 x \\right)} + 2$"
      ],
      "text/plain": [
       "     2         \n",
       "2⋅tan (2⋅x) + 2"
      ]
     },
     "execution_count": 116,
     "metadata": {},
     "output_type": "execute_result"
    }
   ],
   "source": [
    "diff(tan(2*x),x)"
   ]
  },
  {
   "cell_type": "code",
   "execution_count": 117,
   "metadata": {},
   "outputs": [
    {
     "data": {
      "image/png": "[encoded data removed]",
      "text/latex": [
       "$\\displaystyle \\frac{1}{x}$"
      ],
      "text/plain": [
       "1\n",
       "─\n",
       "x"
      ]
     },
     "execution_count": 117,
     "metadata": {},
     "output_type": "execute_result"
    }
   ],
   "source": [
    "diff(log(x), x)"
   ]
  },
  {
   "cell_type": "code",
   "execution_count": 118,
   "metadata": {},
   "outputs": [],
   "source": [
    "# Find higher order derivatives"
   ]
  },
  {
   "cell_type": "code",
   "execution_count": 119,
   "metadata": {},
   "outputs": [
    {
     "data": {
      "image/png": "[encoded data removed]",
      "text/latex": [
       "$\\displaystyle 6 x$"
      ],
      "text/plain": [
       "6⋅x"
      ]
     },
     "execution_count": 119,
     "metadata": {},
     "output_type": "execute_result"
    }
   ],
   "source": [
    "expr = x**3\n",
    "diff(expr,x,x)            # Second derivative"
   ]
  },
  {
   "cell_type": "code",
   "execution_count": 120,
   "metadata": {},
   "outputs": [
    {
     "data": {
      "image/png": "[encoded data removed]",
      "text/latex": [
       "$\\displaystyle 6$"
      ],
      "text/plain": [
       "6"
      ]
     },
     "execution_count": 120,
     "metadata": {},
     "output_type": "execute_result"
    }
   ],
   "source": [
    "diff(expr,x,x,x)          # Third derivative"
   ]
  },
  {
   "cell_type": "code",
   "execution_count": 121,
   "metadata": {},
   "outputs": [
    {
     "data": {
      "image/png": "[encoded data removed]",
      "text/latex": [
       "$\\displaystyle 3 x^{2}$"
      ],
      "text/plain": [
       "   2\n",
       "3⋅x "
      ]
     },
     "execution_count": 121,
     "metadata": {},
     "output_type": "execute_result"
    }
   ],
   "source": [
    "diff(expr,x,1)"
   ]
  },
  {
   "cell_type": "code",
   "execution_count": 122,
   "metadata": {},
   "outputs": [
    {
     "data": {
      "image/png": "[encoded data removed]",
      "text/latex": [
       "$\\displaystyle 6 x$"
      ],
      "text/plain": [
       "6⋅x"
      ]
     },
     "execution_count": 122,
     "metadata": {},
     "output_type": "execute_result"
    }
   ],
   "source": [
    "diff(expr,x,2)"
   ]
  },
  {
   "cell_type": "code",
   "execution_count": 123,
   "metadata": {},
   "outputs": [
    {
     "data": {
      "image/png": "[encoded data removed]",
      "text/latex": [
       "$\\displaystyle 6$"
      ],
      "text/plain": [
       "6"
      ]
     },
     "execution_count": 123,
     "metadata": {},
     "output_type": "execute_result"
    }
   ],
   "source": [
    "diff(expr,x,3)"
   ]
  },
  {
   "cell_type": "code",
   "execution_count": 131,
   "metadata": {},
   "outputs": [],
   "source": [
    "del exp"
   ]
  },
  {
   "cell_type": "code",
   "execution_count": 133,
   "metadata": {},
   "outputs": [],
   "source": [
    "# partial derivatives"
   ]
  },
  {
   "cell_type": "code",
   "execution_count": 138,
   "metadata": {},
   "outputs": [
    {
     "data": {
      "image/png": "[encoded data removed]",
      "text/latex": [
       "$\\displaystyle 20.085536923187668$"
      ],
      "text/plain": [
       "20.085536923187668"
      ]
     },
     "execution_count": 138,
     "metadata": {},
     "output_type": "execute_result"
    }
   ],
   "source": [
    "import math\n",
    "math.exp(3)"
   ]
  },
  {
   "cell_type": "code",
   "execution_count": 140,
   "metadata": {},
   "outputs": [],
   "source": [
    "from sympy import *"
   ]
  },
  {
   "cell_type": "code",
   "execution_count": 141,
   "metadata": {},
   "outputs": [
    {
     "data": {
      "image/png": "[encoded data removed]",
      "text/latex": [
       "$\\displaystyle e$"
      ],
      "text/plain": [
       "ℯ"
      ]
     },
     "execution_count": 141,
     "metadata": {},
     "output_type": "execute_result"
    }
   ],
   "source": [
    "exp(1)"
   ]
  },
  {
   "cell_type": "code",
   "execution_count": 142,
   "metadata": {},
   "outputs": [],
   "source": [
    "x, y, z = symbols(\"x y z\")\n",
    "expr = exp(x*y*z)"
   ]
  },
  {
   "cell_type": "code",
   "execution_count": 143,
   "metadata": {},
   "outputs": [
    {
     "data": {
      "image/png": "[encoded data removed]",
      "text/latex": [
       "$\\displaystyle y z e^{x y z}$"
      ],
      "text/plain": [
       "     x⋅y⋅z\n",
       "y⋅z⋅ℯ     "
      ]
     },
     "execution_count": 143,
     "metadata": {},
     "output_type": "execute_result"
    }
   ],
   "source": [
    "diff(expr, x)"
   ]
  },
  {
   "cell_type": "code",
   "execution_count": 144,
   "metadata": {},
   "outputs": [
    {
     "data": {
      "image/png": "[encoded data removed]",
      "text/latex": [
       "$\\displaystyle z \\left(x y z + 1\\right) e^{x y z}$"
      ],
      "text/plain": [
       "               x⋅y⋅z\n",
       "z⋅(x⋅y⋅z + 1)⋅ℯ     "
      ]
     },
     "execution_count": 144,
     "metadata": {},
     "output_type": "execute_result"
    }
   ],
   "source": [
    "diff(expr, x,y)"
   ]
  },
  {
   "cell_type": "code",
   "execution_count": 145,
   "metadata": {},
   "outputs": [
    {
     "data": {
      "image/png": "[encoded data removed]",
      "text/latex": [
       "$\\displaystyle \\left(x^{2} y^{2} z^{2} + 3 x y z + 1\\right) e^{x y z}$"
      ],
      "text/plain": [
       "⎛ 2  2  2              ⎞  x⋅y⋅z\n",
       "⎝x ⋅y ⋅z  + 3⋅x⋅y⋅z + 1⎠⋅ℯ     "
      ]
     },
     "execution_count": 145,
     "metadata": {},
     "output_type": "execute_result"
    }
   ],
   "source": [
    "diff(expr,x,y,z)"
   ]
  },
  {
   "cell_type": "code",
   "execution_count": 148,
   "metadata": {},
   "outputs": [
    {
     "data": {
      "image/png": "[encoded data removed]",
      "text/latex": [
       "$\\displaystyle 8 x y z e^{x^{2} + y^{2} + z^{2}}$"
      ],
      "text/plain": [
       "          2    2    2\n",
       "         x  + y  + z \n",
       "8⋅x⋅y⋅z⋅ℯ            "
      ]
     },
     "execution_count": 148,
     "metadata": {},
     "output_type": "execute_result"
    }
   ],
   "source": [
    "expr1 = exp(x**2 + y**2 +z**2)\n",
    "diff(expr1,x,y,z)"
   ]
  },
  {
   "cell_type": "code",
   "execution_count": 155,
   "metadata": {},
   "outputs": [
    {
     "data": {
      "image/png": "[encoded data removed]",
      "text/latex": [
       "$\\displaystyle \\frac{\\partial^{3}}{\\partial z\\partial y\\partial x} e^{x^{2} + y^{2} + z^{2}}$"
      ],
      "text/plain": [
       "    3   ⎛  2    2    2⎞\n",
       "   ∂    ⎜ x  + y  + z ⎟\n",
       "────────⎝ℯ            ⎠\n",
       "∂z ∂y ∂x               "
      ]
     },
     "execution_count": 155,
     "metadata": {},
     "output_type": "execute_result"
    }
   ],
   "source": [
    "Ans = Derivative(expr1,x,y,z)\n",
    "Ans"
   ]
  },
  {
   "cell_type": "code",
   "execution_count": 158,
   "metadata": {},
   "outputs": [
    {
     "data": {
      "image/png": "[encoded data removed]",
      "text/latex": [
       "$\\displaystyle 8 x y z e^{x^{2} + y^{2} + z^{2}}$"
      ],
      "text/plain": [
       "          2    2    2\n",
       "         x  + y  + z \n",
       "8⋅x⋅y⋅z⋅ℯ            "
      ]
     },
     "execution_count": 158,
     "metadata": {},
     "output_type": "execute_result"
    }
   ],
   "source": [
    "Ans.simplify()"
   ]
  },
  {
   "cell_type": "markdown",
   "metadata": {},
   "source": [
    "# INTEGRALS"
   ]
  },
  {
   "cell_type": "code",
   "execution_count": 159,
   "metadata": {},
   "outputs": [
    {
     "data": {
      "image/png": "[encoded data removed]",
      "text/latex": [
       "$\\displaystyle \\int x^{3}\\, dx$"
      ],
      "text/plain": [
       "⌠      \n",
       "⎮  3   \n",
       "⎮ x  dx\n",
       "⌡      "
      ]
     },
     "execution_count": 159,
     "metadata": {},
     "output_type": "execute_result"
    }
   ],
   "source": [
    "Integral(x**3,x)"
   ]
  },
  {
   "cell_type": "code",
   "execution_count": 160,
   "metadata": {},
   "outputs": [
    {
     "data": {
      "image/png": "[encoded data removed]",
      "text/latex": [
       "$\\displaystyle \\int\\limits_{a}^{b} x^{3}\\, dx$"
      ],
      "text/plain": [
       "b      \n",
       "⌠      \n",
       "⎮  3   \n",
       "⎮ x  dx\n",
       "⌡      \n",
       "a      "
      ]
     },
     "execution_count": 160,
     "metadata": {},
     "output_type": "execute_result"
    }
   ],
   "source": [
    "Integral(x**3,(x,a,b))"
   ]
  },
  {
   "cell_type": "code",
   "execution_count": 161,
   "metadata": {},
   "outputs": [
    {
     "data": {
      "image/png": "[encoded data removed]",
      "text/latex": [
       "$\\displaystyle \\int\\limits_{-\\infty}^{\\infty} x^{3}\\, dx$"
      ],
      "text/plain": [
       "∞       \n",
       "⌠       \n",
       "⎮   3   \n",
       "⎮  x  dx\n",
       "⌡       \n",
       "-∞      "
      ]
     },
     "execution_count": 161,
     "metadata": {},
     "output_type": "execute_result"
    }
   ],
   "source": [
    "Integral(x**3,(x,-oo,+oo))"
   ]
  },
  {
   "cell_type": "code",
   "execution_count": 162,
   "metadata": {},
   "outputs": [
    {
     "data": {
      "image/png": "[encoded data removed]",
      "text/latex": [
       "$\\displaystyle \\frac{x^{4}}{4}$"
      ],
      "text/plain": [
       " 4\n",
       "x \n",
       "──\n",
       "4 "
      ]
     },
     "execution_count": 162,
     "metadata": {},
     "output_type": "execute_result"
    }
   ],
   "source": [
    "integrate(x**3,x)"
   ]
  },
  {
   "cell_type": "code",
   "execution_count": 163,
   "metadata": {},
   "outputs": [
    {
     "data": {
      "image/png": "[encoded data removed]",
      "text/latex": [
       "$\\displaystyle \\frac{255}{4}$"
      ],
      "text/plain": [
       "255/4"
      ]
     },
     "execution_count": 163,
     "metadata": {},
     "output_type": "execute_result"
    }
   ],
   "source": [
    "integrate(x**3,(x,1,4))"
   ]
  },
  {
   "cell_type": "code",
   "execution_count": 170,
   "metadata": {},
   "outputs": [
    {
     "data": {
      "image/png": "[encoded data removed]",
      "text/latex": [
       "$\\displaystyle \\int\\limits_{\\frac{\\pi}{4}}^{\\frac{\\pi}{2}} \\sin{\\left(2 x \\right)}\\, dx$"
      ],
      "text/plain": [
       "π            \n",
       "─            \n",
       "2            \n",
       "⌠            \n",
       "⎮ sin(2⋅x) dx\n",
       "⌡            \n",
       "π            \n",
       "─            \n",
       "4            "
      ]
     },
     "metadata": {},
     "output_type": "display_data"
    },
    {
     "name": "stdout",
     "output_type": "stream",
     "text": [
      "= 1/2\n"
     ]
    }
   ],
   "source": [
    "display(Integral(sin(2*x),(x,pi/4,pi/2)))\n",
    "print(\"=\", integrate(sin(2*x),(x,pi/4,pi/2)))"
   ]
  },
  {
   "cell_type": "code",
   "execution_count": 173,
   "metadata": {},
   "outputs": [
    {
     "data": {
      "image/png": "[encoded data removed]",
      "text/latex": [
       "$\\displaystyle \\int\\limits_{- \\pi}^{\\pi} \\left(- \\log{\\left(x \\right)} + \\tan{\\left(x \\right)}\\right)\\, dx$"
      ],
      "text/plain": [
       "π                       \n",
       "⌠                       \n",
       "⎮  (-log(x) + tan(x)) dx\n",
       "⌡                       \n",
       "-π                      "
      ]
     },
     "metadata": {},
     "output_type": "display_data"
    }
   ],
   "source": [
    "display(Integral(tan(x)-log(x),(x,-pi,pi)))"
   ]
  },
  {
   "cell_type": "code",
   "execution_count": 176,
   "metadata": {},
   "outputs": [
    {
     "data": {
      "image/png": "[encoded data removed]",
      "text/latex": [
       "$\\displaystyle \\int\\limits_{0}^{\\infty} e^{- x}\\, dx$"
      ],
      "text/plain": [
       "∞       \n",
       "⌠       \n",
       "⎮  -x   \n",
       "⎮ ℯ   dx\n",
       "⌡       \n",
       "0       "
      ]
     },
     "metadata": {},
     "output_type": "display_data"
    }
   ],
   "source": [
    "display(Integral(exp(-x),(x,0,oo)))"
   ]
  },
  {
   "cell_type": "code",
   "execution_count": 178,
   "metadata": {},
   "outputs": [
    {
     "data": {
      "image/png": "[encoded data removed]",
      "text/latex": [
       "$\\displaystyle 1$"
      ],
      "text/plain": [
       "1"
      ]
     },
     "execution_count": 178,
     "metadata": {},
     "output_type": "execute_result"
    }
   ],
   "source": [
    "integrate(exp(-x),(x,0,+oo))"
   ]
  },
  {
   "cell_type": "markdown",
   "metadata": {},
   "source": [
    "# MULTIPLE INTEGRALS"
   ]
  },
  {
   "cell_type": "code",
   "execution_count": 179,
   "metadata": {},
   "outputs": [
    {
     "data": {
      "image/png": "[encoded data removed]",
      "text/latex": [
       "$\\displaystyle \\int\\limits_{-\\infty}^{\\infty}\\int\\limits_{-\\infty}^{\\infty} e^{- x^{2} y^{3}}\\, dx\\, dy$"
      ],
      "text/plain": [
       "∞  ∞               \n",
       "⌠  ⌠               \n",
       "⎮  ⎮     2  3      \n",
       "⎮  ⎮   -x ⋅y       \n",
       "⎮  ⎮  ℯ       dx dy\n",
       "⌡  ⌡               \n",
       "-∞ -∞              "
      ]
     },
     "execution_count": 179,
     "metadata": {},
     "output_type": "execute_result"
    }
   ],
   "source": [
    "Integral(exp(-x**2*y**3),(x,-oo,+oo),(y,-oo,+oo))"
   ]
  },
  {
   "cell_type": "code",
   "execution_count": 180,
   "metadata": {},
   "outputs": [
    {
     "data": {
      "text/latex": [
       "$\\displaystyle \\int\\limits_{-\\infty}^{\\infty} \\begin{cases} \\frac{\\sqrt{\\pi} \\operatorname{polar\\_lift}^{\\frac{3}{2}}{\\left(y \\right)}}{y^{3}} & \\text{for}\\: 3 \\left|{\\arg{\\left(y \\right)}}\\right| \\leq \\frac{\\pi}{2} \\\\\\int\\limits_{-\\infty}^{\\infty} e^{- x^{2} y^{3}}\\, dx & \\text{otherwise} \\end{cases}\\, dy$"
      ],
      "text/plain": [
       "∞                                             \n",
       "⌠                                             \n",
       "⎮  ⎧             3/2                          \n",
       "⎮  ⎪√π⋅polar_lift   (y)                   π   \n",
       "⎮  ⎪───────────────────  for 3⋅│arg(y)│ ≤ ─   \n",
       "⎮  ⎪          3                           2   \n",
       "⎮  ⎪         y                                \n",
       "⎮  ⎪                                          \n",
       "⎮  ⎨   ∞                                    dy\n",
       "⎮  ⎪   ⌠                                      \n",
       "⎮  ⎪   ⎮     2  3                             \n",
       "⎮  ⎪   ⎮   -x ⋅y                              \n",
       "⎮  ⎪   ⎮  ℯ       dx         otherwise        \n",
       "⎮  ⎪   ⌡                                      \n",
       "⎮  ⎩   -∞                                     \n",
       "⌡                                             \n",
       "-∞                                            "
      ]
     },
     "execution_count": 180,
     "metadata": {},
     "output_type": "execute_result"
    }
   ],
   "source": [
    "integrate(exp(-x**2*y**3),(x,-oo,+oo),(y,-oo,+oo))"
   ]
  },
  {
   "cell_type": "markdown",
   "metadata": {},
   "source": [
    "# LIMITS"
   ]
  },
  {
   "cell_type": "code",
   "execution_count": 182,
   "metadata": {},
   "outputs": [
    {
     "data": {
      "image/png": "[encoded data removed]",
      "text/latex": [
       "$\\displaystyle 2$"
      ],
      "text/plain": [
       "2"
      ]
     },
     "execution_count": 182,
     "metadata": {},
     "output_type": "execute_result"
    }
   ],
   "source": [
    "limit(sin(2*x)/x,x,0)"
   ]
  },
  {
   "cell_type": "markdown",
   "metadata": {},
   "source": [
    "# SERIES EXPANSION"
   ]
  },
  {
   "cell_type": "code",
   "execution_count": 183,
   "metadata": {},
   "outputs": [
    {
     "data": {
      "image/png": "[encoded data removed]",
      "text/latex": [
       "$\\displaystyle 1 + x + \\frac{x^{2}}{2} + \\frac{x^{3}}{6} + \\frac{x^{4}}{24} + \\frac{x^{5}}{120} + O\\left(x^{6}\\right)$"
      ],
      "text/plain": [
       "         2    3    4     5        \n",
       "        x    x    x     x     ⎛ 6⎞\n",
       "1 + x + ── + ── + ── + ─── + O⎝x ⎠\n",
       "        2    6    24   120        "
      ]
     },
     "execution_count": 183,
     "metadata": {},
     "output_type": "execute_result"
    }
   ],
   "source": [
    "expr = exp(x)\n",
    "expr.series(x)"
   ]
  },
  {
   "cell_type": "code",
   "execution_count": 184,
   "metadata": {},
   "outputs": [
    {
     "data": {
      "image/png": "[encoded data removed]",
      "text/latex": [
       "$\\displaystyle 1 + x + \\frac{x^{2}}{2} + \\frac{x^{3}}{6} + \\frac{x^{4}}{24} + \\frac{x^{5}}{120} + \\frac{x^{6}}{720} + \\frac{x^{7}}{5040} + \\frac{x^{8}}{40320} + O\\left(x^{9}\\right)$"
      ],
      "text/plain": [
       "         2    3    4     5     6     7       8         \n",
       "        x    x    x     x     x     x       x      ⎛ 9⎞\n",
       "1 + x + ── + ── + ── + ─── + ─── + ──── + ───── + O⎝x ⎠\n",
       "        2    6    24   120   720   5040   40320        "
      ]
     },
     "execution_count": 184,
     "metadata": {},
     "output_type": "execute_result"
    }
   ],
   "source": [
    "expr.series(x,0,9)"
   ]
  },
  {
   "cell_type": "code",
   "execution_count": 185,
   "metadata": {},
   "outputs": [
    {
     "data": {
      "image/png": "[encoded data removed]",
      "text/latex": [
       "$\\displaystyle 1 + x + \\frac{x^{2}}{2} + O\\left(x^{3}\\right)$"
      ],
      "text/plain": [
       "         2        \n",
       "        x     ⎛ 3⎞\n",
       "1 + x + ── + O⎝x ⎠\n",
       "        2         "
      ]
     },
     "execution_count": 185,
     "metadata": {},
     "output_type": "execute_result"
    }
   ],
   "source": [
    "expr.series(x,0,3)"
   ]
  },
  {
   "cell_type": "code",
   "execution_count": 186,
   "metadata": {},
   "outputs": [
    {
     "data": {
      "image/png": "[encoded data removed]",
      "text/latex": [
       "$\\displaystyle x - \\frac{x^{3}}{6} + O\\left(x^{5}\\right)$"
      ],
      "text/plain": [
       "     3        \n",
       "    x     ⎛ 5⎞\n",
       "x - ── + O⎝x ⎠\n",
       "    6         "
      ]
     },
     "execution_count": 186,
     "metadata": {},
     "output_type": "execute_result"
    }
   ],
   "source": [
    "expr1 = sin(x)\n",
    "expr1.series(x,0,5)"
   ]
  },
  {
   "cell_type": "code",
   "execution_count": 187,
   "metadata": {},
   "outputs": [
    {
     "data": {
      "image/png": "[encoded data removed]",
      "text/latex": [
       "$\\displaystyle x - \\frac{x^{3}}{6} + \\frac{x^{5}}{120} - \\frac{x^{7}}{5040} + \\frac{x^{9}}{362880} - \\frac{x^{11}}{39916800} + \\frac{x^{13}}{6227020800} + O\\left(x^{15}\\right)$"
      ],
      "text/plain": [
       "     3     5     7       9        11          13             \n",
       "    x     x     x       x        x           x          ⎛ 15⎞\n",
       "x - ── + ─── - ──── + ────── - ──────── + ────────── + O⎝x  ⎠\n",
       "    6    120   5040   362880   39916800   6227020800         "
      ]
     },
     "execution_count": 187,
     "metadata": {},
     "output_type": "execute_result"
    }
   ],
   "source": [
    "expr1.series(x,0,15)"
   ]
  },
  {
   "cell_type": "code",
   "execution_count": 188,
   "metadata": {},
   "outputs": [
    {
     "data": {
      "image/png": "[encoded data removed]",
      "text/latex": [
       "$\\displaystyle x + \\frac{x^{3}}{3} + \\frac{2 x^{5}}{15} + O\\left(x^{7}\\right)$"
      ],
      "text/plain": [
       "     3      5        \n",
       "    x    2⋅x     ⎛ 7⎞\n",
       "x + ── + ──── + O⎝x ⎠\n",
       "    3     15         "
      ]
     },
     "execution_count": 188,
     "metadata": {},
     "output_type": "execute_result"
    }
   ],
   "source": [
    "tan(x).series(x,0,7)"
   ]
  },
  {
   "cell_type": "code",
   "execution_count": 189,
   "metadata": {},
   "outputs": [
    {
     "data": {
      "image/png": "[encoded data removed]",
      "text/latex": [
       "$\\displaystyle \\frac{1}{x} + \\frac{x}{6} + \\frac{7 x^{3}}{360} + \\frac{31 x^{5}}{15120} + \\frac{127 x^{7}}{604800} + O\\left(x^{9}\\right)$"
      ],
      "text/plain": [
       "           3       5        7        \n",
       "1   x   7⋅x    31⋅x    127⋅x     ⎛ 9⎞\n",
       "─ + ─ + ──── + ───── + ────── + O⎝x ⎠\n",
       "x   6   360    15120   604800        "
      ]
     },
     "execution_count": 189,
     "metadata": {},
     "output_type": "execute_result"
    }
   ],
   "source": [
    "csc(x).series(x,0,9)"
   ]
  },
  {
   "cell_type": "code",
   "execution_count": null,
   "metadata": {},
   "outputs": [],
   "source": []
  }
 ],
 "metadata": {
  "kernelspec": {
   "display_name": "Python 3",
   "language": "python",
   "name": "python3"
  },
  "language_info": {
   "codemirror_mode": {
    "name": "ipython",
    "version": 3
   },
   "file_extension": ".py",
   "mimetype": "text/x-python",
   "name": "python",
   "nbconvert_exporter": "python",
   "pygments_lexer": "ipython3",
   "version": "3.8.3"
  }
 },
 "nbformat": 4,
 "nbformat_minor": 4
}
