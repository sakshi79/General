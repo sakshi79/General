{
 "cells": [
  {
   "cell_type": "code",
   "execution_count": 1,
   "metadata": {},
   "outputs": [],
   "source": [
    "path = \"meta_Gift_Cards.json\""
   ]
  },
  {
   "cell_type": "code",
   "execution_count": 2,
   "metadata": {},
   "outputs": [],
   "source": [
    "f = open(path)"
   ]
  },
  {
   "cell_type": "code",
   "execution_count": 3,
   "metadata": {},
   "outputs": [],
   "source": [
    "line = f.readline()"
   ]
  },
  {
   "cell_type": "code",
   "execution_count": 4,
   "metadata": {},
   "outputs": [
    {
     "data": {
      "text/plain": [
       "'{\"category\": [\"Gift Cards\", \"Gift Cards\"], \"description\": [\"Christmas Cats & Dogs glitter gift tags. This set features charming images from the Cavallini archives.\"], \"title\": \"Cavallini Papers Glitter Gift Tags Christmas Cats and Dogs Assorted Gift Tags Packaged in a Tin, Set of 36\", \"also_buy\": [\"163544439X\", \"1574891138\", \"B00C57VMNU\", \"1619925311\", \"1619920115\", \"B001D6VPJU\", \"B007Y2MAGE\", \"1574897594\", \"1619929813\", \"1574898744\", \"161992529X\", \"B00W6QW1OE\", \"1619928078\", \"1619921804\", \"B071NJMBLP\", \"B0097WUEC6\", \"1619923459\", \"1619921014\", \"1619924986\"], \"image\": [\"https://images-na.ssl-images-amazon.com/images/I/5179R%2B78AXL._SS40_.jpg\", \"https://images-na.ssl-images-amazon.com/images/I/41fW%2B0brImL._SS40_.jpg\", \"https://images-na.ssl-images-amazon.com/images/I/51ffOAq6BFL._SS40_.jpg\", \"https://images-na.ssl-images-amazon.com/images/I/416QhQrGLQL._SS40_.jpg\"], \"brand\": \"Cavallini Papers &amp; Co., Inc.\", \"feature\": [\"36 assorted gift tags packaged in a tin\", \"Tags are pre-strung and ready to use\", \"Beautiful for adorning packages or other decorative purposes\"], \"rank\": \">#184,422 in Home & Kitchen (See Top 100 in Home & Kitchen)>#328 in Gift Cards > Christmas>#482 in Gift Cards > For Her>#1,256 in Gift Cards > Departments > Gift Cards\", \"main_cat\": \"Amazon Home\", \"price\": \"$17.95\", \"asin\": \"1619923009\"}\\n'"
      ]
     },
     "execution_count": 4,
     "metadata": {},
     "output_type": "execute_result"
    }
   ],
   "source": [
    "line"
   ]
  },
  {
   "cell_type": "code",
   "execution_count": 5,
   "metadata": {},
   "outputs": [],
   "source": [
    "d = eval(line)"
   ]
  },
  {
   "cell_type": "code",
   "execution_count": 6,
   "metadata": {},
   "outputs": [
    {
     "data": {
      "text/plain": [
       "{'category': ['Gift Cards', 'Gift Cards'],\n",
       " 'description': ['Christmas Cats & Dogs glitter gift tags. This set features charming images from the Cavallini archives.'],\n",
       " 'title': 'Cavallini Papers Glitter Gift Tags Christmas Cats and Dogs Assorted Gift Tags Packaged in a Tin, Set of 36',\n",
       " 'also_buy': ['163544439X',\n",
       "  '1574891138',\n",
       "  'B00C57VMNU',\n",
       "  '1619925311',\n",
       "  '1619920115',\n",
       "  'B001D6VPJU',\n",
       "  'B007Y2MAGE',\n",
       "  '1574897594',\n",
       "  '1619929813',\n",
       "  '1574898744',\n",
       "  '161992529X',\n",
       "  'B00W6QW1OE',\n",
       "  '1619928078',\n",
       "  '1619921804',\n",
       "  'B071NJMBLP',\n",
       "  'B0097WUEC6',\n",
       "  '1619923459',\n",
       "  '1619921014',\n",
       "  '1619924986'],\n",
       " 'image': ['https://images-na.ssl-images-amazon.com/images/I/5179R%2B78AXL._SS40_.jpg',\n",
       "  'https://images-na.ssl-images-amazon.com/images/I/41fW%2B0brImL._SS40_.jpg',\n",
       "  'https://images-na.ssl-images-amazon.com/images/I/51ffOAq6BFL._SS40_.jpg',\n",
       "  'https://images-na.ssl-images-amazon.com/images/I/416QhQrGLQL._SS40_.jpg'],\n",
       " 'brand': 'Cavallini Papers &amp; Co., Inc.',\n",
       " 'feature': ['36 assorted gift tags packaged in a tin',\n",
       "  'Tags are pre-strung and ready to use',\n",
       "  'Beautiful for adorning packages or other decorative purposes'],\n",
       " 'rank': '>#184,422 in Home & Kitchen (See Top 100 in Home & Kitchen)>#328 in Gift Cards > Christmas>#482 in Gift Cards > For Her>#1,256 in Gift Cards > Departments > Gift Cards',\n",
       " 'main_cat': 'Amazon Home',\n",
       " 'price': '$17.95',\n",
       " 'asin': '1619923009'}"
      ]
     },
     "execution_count": 6,
     "metadata": {},
     "output_type": "execute_result"
    }
   ],
   "source": [
    "d"
   ]
  },
  {
   "cell_type": "code",
   "execution_count": 10,
   "metadata": {},
   "outputs": [
    {
     "data": {
      "text/plain": [
       "['Gift Cards', 'Gift Cards']"
      ]
     },
     "execution_count": 10,
     "metadata": {},
     "output_type": "execute_result"
    }
   ],
   "source": [
    "d['category']"
   ]
  },
  {
   "cell_type": "markdown",
   "metadata": {},
   "source": [
    "### Eval function treats an arbitrary string as it if were a python code. It may also accidently run code, if present in the data."
   ]
  },
  {
   "cell_type": "code",
   "execution_count": 8,
   "metadata": {},
   "outputs": [],
   "source": [
    "import ast"
   ]
  },
  {
   "cell_type": "code",
   "execution_count": 9,
   "metadata": {},
   "outputs": [
    {
     "data": {
      "text/plain": [
       "{'category': ['Gift Cards', 'Gift Cards'],\n",
       " 'description': ['Christmas Cats & Dogs glitter gift tags. This set features charming images from the Cavallini archives.'],\n",
       " 'title': 'Cavallini Papers Glitter Gift Tags Christmas Cats and Dogs Assorted Gift Tags Packaged in a Tin, Set of 36',\n",
       " 'also_buy': ['163544439X',\n",
       "  '1574891138',\n",
       "  'B00C57VMNU',\n",
       "  '1619925311',\n",
       "  '1619920115',\n",
       "  'B001D6VPJU',\n",
       "  'B007Y2MAGE',\n",
       "  '1574897594',\n",
       "  '1619929813',\n",
       "  '1574898744',\n",
       "  '161992529X',\n",
       "  'B00W6QW1OE',\n",
       "  '1619928078',\n",
       "  '1619921804',\n",
       "  'B071NJMBLP',\n",
       "  'B0097WUEC6',\n",
       "  '1619923459',\n",
       "  '1619921014',\n",
       "  '1619924986'],\n",
       " 'image': ['https://images-na.ssl-images-amazon.com/images/I/5179R%2B78AXL._SS40_.jpg',\n",
       "  'https://images-na.ssl-images-amazon.com/images/I/41fW%2B0brImL._SS40_.jpg',\n",
       "  'https://images-na.ssl-images-amazon.com/images/I/51ffOAq6BFL._SS40_.jpg',\n",
       "  'https://images-na.ssl-images-amazon.com/images/I/416QhQrGLQL._SS40_.jpg'],\n",
       " 'brand': 'Cavallini Papers &amp; Co., Inc.',\n",
       " 'feature': ['36 assorted gift tags packaged in a tin',\n",
       "  'Tags are pre-strung and ready to use',\n",
       "  'Beautiful for adorning packages or other decorative purposes'],\n",
       " 'rank': '>#184,422 in Home & Kitchen (See Top 100 in Home & Kitchen)>#328 in Gift Cards > Christmas>#482 in Gift Cards > For Her>#1,256 in Gift Cards > Departments > Gift Cards',\n",
       " 'main_cat': 'Amazon Home',\n",
       " 'price': '$17.95',\n",
       " 'asin': '1619923009'}"
      ]
     },
     "execution_count": 9,
     "metadata": {},
     "output_type": "execute_result"
    }
   ],
   "source": [
    "ast.literal_eval(line)"
   ]
  },
  {
   "cell_type": "markdown",
   "metadata": {},
   "source": [
    "### This ast library ensures we are just working on data,not running some code (invalid data) that may be present."
   ]
  },
  {
   "cell_type": "code",
   "execution_count": 11,
   "metadata": {},
   "outputs": [],
   "source": [
    "import json"
   ]
  },
  {
   "cell_type": "code",
   "execution_count": 12,
   "metadata": {},
   "outputs": [
    {
     "data": {
      "text/plain": [
       "{'category': ['Gift Cards', 'Gift Cards'],\n",
       " 'description': ['Christmas Cats & Dogs glitter gift tags. This set features charming images from the Cavallini archives.'],\n",
       " 'title': 'Cavallini Papers Glitter Gift Tags Christmas Cats and Dogs Assorted Gift Tags Packaged in a Tin, Set of 36',\n",
       " 'also_buy': ['163544439X',\n",
       "  '1574891138',\n",
       "  'B00C57VMNU',\n",
       "  '1619925311',\n",
       "  '1619920115',\n",
       "  'B001D6VPJU',\n",
       "  'B007Y2MAGE',\n",
       "  '1574897594',\n",
       "  '1619929813',\n",
       "  '1574898744',\n",
       "  '161992529X',\n",
       "  'B00W6QW1OE',\n",
       "  '1619928078',\n",
       "  '1619921804',\n",
       "  'B071NJMBLP',\n",
       "  'B0097WUEC6',\n",
       "  '1619923459',\n",
       "  '1619921014',\n",
       "  '1619924986'],\n",
       " 'image': ['https://images-na.ssl-images-amazon.com/images/I/5179R%2B78AXL._SS40_.jpg',\n",
       "  'https://images-na.ssl-images-amazon.com/images/I/41fW%2B0brImL._SS40_.jpg',\n",
       "  'https://images-na.ssl-images-amazon.com/images/I/51ffOAq6BFL._SS40_.jpg',\n",
       "  'https://images-na.ssl-images-amazon.com/images/I/416QhQrGLQL._SS40_.jpg'],\n",
       " 'brand': 'Cavallini Papers &amp; Co., Inc.',\n",
       " 'feature': ['36 assorted gift tags packaged in a tin',\n",
       "  'Tags are pre-strung and ready to use',\n",
       "  'Beautiful for adorning packages or other decorative purposes'],\n",
       " 'rank': '>#184,422 in Home & Kitchen (See Top 100 in Home & Kitchen)>#328 in Gift Cards > Christmas>#482 in Gift Cards > For Her>#1,256 in Gift Cards > Departments > Gift Cards',\n",
       " 'main_cat': 'Amazon Home',\n",
       " 'price': '$17.95',\n",
       " 'asin': '1619923009'}"
      ]
     },
     "execution_count": 12,
     "metadata": {},
     "output_type": "execute_result"
    }
   ],
   "source": [
    "json.loads(line)"
   ]
  },
  {
   "cell_type": "code",
   "execution_count": null,
   "metadata": {},
   "outputs": [],
   "source": []
  }
 ],
 "metadata": {
  "kernelspec": {
   "display_name": "Python 3",
   "language": "python",
   "name": "python3"
  },
  "language_info": {
   "codemirror_mode": {
    "name": "ipython",
    "version": 3
   },
   "file_extension": ".py",
   "mimetype": "text/x-python",
   "name": "python",
   "nbconvert_exporter": "python",
   "pygments_lexer": "ipython3",
   "version": "3.8.3"
  }
 },
 "nbformat": 4,
 "nbformat_minor": 4
}
